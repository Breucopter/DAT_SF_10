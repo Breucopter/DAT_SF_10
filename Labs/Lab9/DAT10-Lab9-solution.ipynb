{
 "metadata": {
  "name": "",
  "signature": "sha256:8bc6af183d7380ecb5e16db63a727c22bafd08f634287431bd9278d5b89aa0d4"
 },
 "nbformat": 3,
 "nbformat_minor": 0,
 "worksheets": [
  {
   "cells": [
    {
     "cell_type": "markdown",
     "metadata": {},
     "source": [
      "## DAT10-Lab09\n",
      "## Logistic Regression Classification"
     ]
    },
    {
     "cell_type": "markdown",
     "metadata": {},
     "source": [
      "Import the usual packages"
     ]
    },
    {
     "cell_type": "code",
     "collapsed": false,
     "input": [
      "import numpy as np\n",
      "import pandas as pd\n",
      "import matplotlib.pyplot as plt\n",
      "\n",
      "%matplotlib inline"
     ],
     "language": "python",
     "metadata": {},
     "outputs": [],
     "prompt_number": 4
    },
    {
     "cell_type": "markdown",
     "metadata": {},
     "source": [
      "Here are a couple pandas settings to make viewing the data a little easier"
     ]
    },
    {
     "cell_type": "code",
     "collapsed": false,
     "input": [
      "pd.set_option('display.max_rows',100)\n",
      "pd.set_option('display.max_columns',60)"
     ],
     "language": "python",
     "metadata": {},
     "outputs": [],
     "prompt_number": 2
    },
    {
     "cell_type": "markdown",
     "metadata": {},
     "source": [
      "#### Load the Iris Data Set"
     ]
    },
    {
     "cell_type": "code",
     "collapsed": false,
     "input": [
      "from sklearn import datasets\n",
      "\n",
      "iris = datasets.load_iris()\n",
      "features = iris.data\n",
      "target = iris.target\n",
      "Names = iris.target_names"
     ],
     "language": "python",
     "metadata": {},
     "outputs": [],
     "prompt_number": 5
    },
    {
     "cell_type": "markdown",
     "metadata": {},
     "source": [
      "#### Logistic Regression is a binary classifier so we'll just use two classes of the data set"
     ]
    },
    {
     "cell_type": "code",
     "collapsed": false,
     "input": [
      "features = features[target!=0]\n",
      "target = target[target!=0]"
     ],
     "language": "python",
     "metadata": {},
     "outputs": [],
     "prompt_number": 4
    },
    {
     "cell_type": "markdown",
     "metadata": {},
     "source": [
      "#### Use the cross_validation function from Lab 4"
     ]
    },
    {
     "cell_type": "code",
     "collapsed": false,
     "input": [
      "from sklearn.cross_validation import KFold\n",
      "\n",
      "def cross_validate(X, y, classifier, k_fold) :\n",
      "\n",
      "    # derive a set of (random) training and testing indices\n",
      "    k_fold_indices = KFold(len(X), n_folds=k_fold,\n",
      "                           shuffle=True, random_state=0)\n",
      "\n",
      "    k_score_total = 0\n",
      "    # for each training and testing slices run the classifier, and score the results\n",
      "    for train_slice, test_slice in k_fold_indices :\n",
      "\n",
      "        model = classifier(X[ train_slice  ],\n",
      "                         y[ train_slice  ])\n",
      "\n",
      "        k_score = model.score(X[ test_slice ],\n",
      "                              y[ test_slice ])\n",
      "\n",
      "        k_score_total += k_score\n",
      "\n",
      "    # return the average accuracy\n",
      "    return k_score_total/k_fold"
     ],
     "language": "python",
     "metadata": {},
     "outputs": [],
     "prompt_number": 5
    },
    {
     "cell_type": "markdown",
     "metadata": {},
     "source": [
      "#### Create an instance of a Logistic Regression model and apply cross-validation\n",
      "#### (Note: C parameter is for regularization)"
     ]
    },
    {
     "cell_type": "code",
     "collapsed": false,
     "input": [
      "from sklearn.linear_model import LogisticRegression\n",
      "\n",
      "model_lr = LogisticRegression(C=1).fit"
     ],
     "language": "python",
     "metadata": {},
     "outputs": [],
     "prompt_number": 6
    },
    {
     "cell_type": "code",
     "collapsed": false,
     "input": [
      "cross_validate(features, target, model_lr, 10)"
     ],
     "language": "python",
     "metadata": {},
     "outputs": [
      {
       "metadata": {},
       "output_type": "pyout",
       "prompt_number": 7,
       "text": [
        "0.96000000000000019"
       ]
      }
     ],
     "prompt_number": 7
    },
    {
     "cell_type": "markdown",
     "metadata": {},
     "source": [
      "### Review the feature importance\n"
     ]
    },
    {
     "cell_type": "code",
     "collapsed": false,
     "input": [
      "feature_names = ['sepal length', 'sepal width', 'petal length', 'petal width']\n",
      "model_lr = LogisticRegression(C=1).fit(features, target)\n",
      "\n",
      "x = np.arange(len(feature_names))\n"
     ],
     "language": "python",
     "metadata": {},
     "outputs": [],
     "prompt_number": 8
    },
    {
     "cell_type": "code",
     "collapsed": false,
     "input": [
      "plt.bar(x, model_lr.coef_.ravel())\n",
      "_ = plt.xticks(x + 0.5, feature_names, rotation=30)\n"
     ],
     "language": "python",
     "metadata": {},
     "outputs": [
      {
       "metadata": {},
       "output_type": "display_data",
       "png": "[encoded data removed]",
       "text": [
        "<matplotlib.figure.Figure at 0x10986b090>"
       ]
      }
     ],
     "prompt_number": 9
    },
    {
     "cell_type": "markdown",
     "metadata": {},
     "source": [
      "### Exercise 1: Build Logistic Regression Classifier for Spambase Data"
     ]
    },
    {
     "cell_type": "markdown",
     "metadata": {},
     "source": [
      "#### Load the spambase.csv as a pandas DataFrame (last column of data contains Target Data - is_spam)"
     ]
    },
    {
     "cell_type": "code",
     "collapsed": false,
     "input": [
      "spam_data = pd.read_csv(\"spambase.csv\")\n",
      "spam_data.head()\n",
      "spam_data.describe()\n",
      "spam_data.info()"
     ],
     "language": "python",
     "metadata": {},
     "outputs": [
      {
       "output_type": "stream",
       "stream": "stdout",
       "text": [
        "<class 'pandas.core.frame.DataFrame'>\n",
        "Int64Index: 4601 entries, 0 to 4600\n",
        "Data columns (total 58 columns):\n",
        "word_freq_make                4601 non-null float64\n",
        "word_freq_address             4601 non-null float64\n",
        "word_freq_all                 4601 non-null float64\n",
        "word_freq_3d                  4601 non-null float64\n",
        "word_freq_our                 4601 non-null float64\n",
        "word_freq_over                4601 non-null float64\n",
        "word_freq_remove              4601 non-null float64\n",
        "word_freq_internet            4601 non-null float64\n",
        "word_freq_order               4601 non-null float64\n",
        "word_freq_mail                4601 non-null float64\n",
        "word_freq_receive             4601 non-null float64\n",
        "word_freq_will                4601 non-null float64\n",
        "word_freq_people              4601 non-null float64\n",
        "word_freq_report              4601 non-null float64\n",
        "word_freq_addresses           4601 non-null float64\n",
        "word_freq_free                4601 non-null float64\n",
        "word_freq_business            4601 non-null float64\n",
        "word_freq_email               4601 non-null float64\n",
        "word_freq_you                 4601 non-null float64\n",
        "word_freq_credit              4601 non-null float64\n",
        "word_freq_your                4601 non-null float64\n",
        "word_freq_font                4601 non-null float64\n",
        "word_freq_000                 4601 non-null float64\n",
        "word_freq_money               4601 non-null float64\n",
        "word_freq_hp                  4601 non-null float64\n",
        "word_freq_hpl                 4601 non-null float64\n",
        "word_freq_george              4601 non-null float64\n",
        "word_freq_650                 4601 non-null float64\n",
        "word_freq_lab                 4601 non-null float64\n",
        "word_freq_labs                4601 non-null float64\n",
        "word_freq_telnet              4601 non-null float64\n",
        "word_freq_857                 4601 non-null float64\n",
        "word_freq_data                4601 non-null float64\n",
        "word_freq_415                 4601 non-null float64\n",
        "word_freq_85                  4601 non-null float64\n",
        "word_freq_technology          4601 non-null float64\n",
        "word_freq_1999                4601 non-null float64\n",
        "word_freq_parts               4601 non-null float64\n",
        "word_freq_pm                  4601 non-null float64\n",
        "word_freq_direct              4601 non-null float64\n",
        "word_freq_cs                  4601 non-null float64\n",
        "word_freq_meeting             4601 non-null float64\n",
        "word_freq_original            4601 non-null float64\n",
        "word_freq_project             4601 non-null float64\n",
        "word_freq_re                  4601 non-null float64\n",
        "word_freq_edu                 4601 non-null float64\n",
        "word_freq_table               4601 non-null float64\n",
        "word_freq_conference          4601 non-null float64\n",
        "char_freq_;                   4601 non-null float64\n",
        "char_freq_(                   4601 non-null float64\n",
        "char_freq_[                   4601 non-null float64\n",
        "char_freq_!                   4601 non-null float64\n",
        "char_freq_$                   4601 non-null float64\n",
        "char_freq_#                   4601 non-null float64\n",
        "capital_run_length_average    4601 non-null float64\n",
        "capital_run_length_longest    4601 non-null int64\n",
        "capital_run_length_total      4601 non-null int64\n",
        "is_spam                       4601 non-null int64\n",
        "dtypes: float64(55), int64(3)"
       ]
      }
     ],
     "prompt_number": 10
    },
    {
     "cell_type": "markdown",
     "metadata": {},
     "source": [
      "Separate features with iloc indexing"
     ]
    },
    {
     "cell_type": "code",
     "collapsed": false,
     "input": [
      "features = spam_data.iloc[:,:-1]\n",
      "target = spam_data.get('is_spam')\n",
      "\n",
      "# features.head()\n",
      "# target.head()"
     ],
     "language": "python",
     "metadata": {},
     "outputs": [],
     "prompt_number": 11
    },
    {
     "cell_type": "markdown",
     "metadata": {},
     "source": [
      "Convert DataFrames into numpy arrays"
     ]
    },
    {
     "cell_type": "code",
     "collapsed": false,
     "input": [
      "feat_val = features.values\n",
      "target_val = target.values"
     ],
     "language": "python",
     "metadata": {},
     "outputs": [],
     "prompt_number": 12
    },
    {
     "cell_type": "markdown",
     "metadata": {},
     "source": [
      "#### Use crossvalidation to score model"
     ]
    },
    {
     "cell_type": "code",
     "collapsed": false,
     "input": [
      "from sklearn.linear_model import LogisticRegression\n",
      "\n",
      "model_lr = LogisticRegression(C=1).fit\n",
      "cross_validate(feat_val, target_val, model_lr, 10)"
     ],
     "language": "python",
     "metadata": {},
     "outputs": [
      {
       "metadata": {},
       "output_type": "pyout",
       "prompt_number": 13,
       "text": [
        "0.92740875223993213"
       ]
      }
     ],
     "prompt_number": 13
    },
    {
     "cell_type": "markdown",
     "metadata": {},
     "source": [
      "### Exercise 2: Compare Performance of Logistic Regression to KNN"
     ]
    },
    {
     "cell_type": "code",
     "collapsed": false,
     "input": [
      "from sklearn.neighbors import KNeighborsClassifier\n",
      "\n",
      "model_knn = KNeighborsClassifier(3).fit\n",
      "cross_validate(feat_val, target_val, model_knn, 10)"
     ],
     "language": "python",
     "metadata": {},
     "outputs": [
      {
       "metadata": {},
       "output_type": "pyout",
       "prompt_number": 77,
       "text": [
        "0.81091389229463362"
       ]
      }
     ],
     "prompt_number": 77
    },
    {
     "cell_type": "markdown",
     "metadata": {},
     "source": [
      "### Exercise 3: Evaluate Feature Importance"
     ]
    },
    {
     "cell_type": "code",
     "collapsed": false,
     "input": [
      "feature_names = spam_data.columns.values[:-1]\n",
      "feature_names = feature_names[:10]\n",
      "model_lr = LogisticRegression(C=1).fit(feat_val, target_val)\n",
      "x = np.arange(len(feature_names))\n",
      "plt.bar(x, model_lr.coef_.ravel()[:10])\n",
      "_ = plt.xticks(x + 0.5, feature_names, rotation=30)\n",
      "\n"
     ],
     "language": "python",
     "metadata": {},
     "outputs": [
      {
       "metadata": {},
       "output_type": "display_data",
       "png": "[encoded data removed]",
       "text": [
        "<matplotlib.figure.Figure at 0x10bd796d0>"
       ]
      }
     ],
     "prompt_number": 78
    },
    {
     "cell_type": "markdown",
     "metadata": {},
     "source": [
      "## ROC (Receiver Operator Characteristic) Plots"
     ]
    },
    {
     "cell_type": "code",
     "collapsed": false,
     "input": [
      "from sklearn.metrics import roc_curve\n",
      "from sklearn.metrics import auc\n",
      "\n",
      "def plot_roc_curve(target_test, target_predicted_proba):\n",
      "    fpr, tpr, thresholds = roc_curve(target_test, target_predicted_proba[:, 1\n",
      "                                                                         ])\n",
      "    roc_auc = auc(fpr, tpr)\n",
      "    \n",
      "    # Plot ROC curve\n",
      "    plt.plot(fpr, tpr, label='ROC curve (area = %0.3f)' % roc_auc)\n",
      "    plt.plot([0, 1], [0, 1], 'k--')  # random predictions curve\n",
      "    plt.xlim([0.0, 1.0])\n",
      "    plt.ylim([0.0, 1.0])\n",
      "    plt.xlabel('False Positive Rate or (1 - Specifity)')\n",
      "    plt.ylabel('True Positive Rate or (Sensitivity)')\n",
      "    plt.title('Receiver Operating Characteristic')\n",
      "    plt.legend(loc=\"lower right\")"
     ],
     "language": "python",
     "metadata": {},
     "outputs": [],
     "prompt_number": 79
    },
    {
     "cell_type": "code",
     "collapsed": false,
     "input": [
      "from sklearn.cross_validation import train_test_split\n",
      "\n",
      "train_feat, test_feat, train_target, test_target = train_test_split(feat_val, target_val, train_size=0.5)"
     ],
     "language": "python",
     "metadata": {},
     "outputs": [],
     "prompt_number": 80
    },
    {
     "cell_type": "code",
     "collapsed": false,
     "input": [
      "model_lr = LogisticRegression(C=1).fit(train_feat, train_target)\n",
      "target_predicted_proba = model_lr.predict_proba(test_feat)"
     ],
     "language": "python",
     "metadata": {},
     "outputs": [],
     "prompt_number": 81
    },
    {
     "cell_type": "code",
     "collapsed": false,
     "input": [
      "plot_roc_curve(test_target, target_predicted_proba)"
     ],
     "language": "python",
     "metadata": {},
     "outputs": [
      {
       "metadata": {},
       "output_type": "display_data",
       "png": "[encoded data removed]",
       "text": [
        "<matplotlib.figure.Figure at 0x10baf07d0>"
       ]
      }
     ],
     "prompt_number": 82
    },
    {
     "cell_type": "code",
     "collapsed": false,
     "input": [
      "dataf = pd.DataFrame(features)\n",
      "def normalize(df):\n",
      "    new_df = pd.DataFrame(dataf)\n",
      "    for col in df.keys():\n",
      "        mean = df[col].mean()\n",
      "        stdev = df[col].std()\n",
      "        new_df[col].apply(lambda x: (x - mean)/stdev)\n",
      "    print new_df\n",
      "    \n",
      "    "
     ],
     "language": "python",
     "metadata": {},
     "outputs": [],
     "prompt_number": 9
    },
    {
     "cell_type": "code",
     "collapsed": false,
     "input": [
      "normalize(dataf)"
     ],
     "language": "python",
     "metadata": {},
     "outputs": [
      {
       "output_type": "stream",
       "stream": "stdout",
       "text": [
        "       0    1    2    3\n",
        "0    5.1  3.5  1.4  0.2\n",
        "1    4.9  3.0  1.4  0.2\n",
        "2    4.7  3.2  1.3  0.2\n",
        "3    4.6  3.1  1.5  0.2\n",
        "4    5.0  3.6  1.4  0.2\n",
        "5    5.4  3.9  1.7  0.4\n",
        "6    4.6  3.4  1.4  0.3\n",
        "7    5.0  3.4  1.5  0.2\n",
        "8    4.4  2.9  1.4  0.2\n",
        "9    4.9  3.1  1.5  0.1\n",
        "10   5.4  3.7  1.5  0.2\n",
        "11   4.8  3.4  1.6  0.2\n",
        "12   4.8  3.0  1.4  0.1\n",
        "13   4.3  3.0  1.1  0.1\n",
        "14   5.8  4.0  1.2  0.2\n",
        "15   5.7  4.4  1.5  0.4\n",
        "16   5.4  3.9  1.3  0.4\n",
        "17   5.1  3.5  1.4  0.3\n",
        "18   5.7  3.8  1.7  0.3\n",
        "19   5.1  3.8  1.5  0.3\n",
        "20   5.4  3.4  1.7  0.2\n",
        "21   5.1  3.7  1.5  0.4\n",
        "22   4.6  3.6  1.0  0.2\n",
        "23   5.1  3.3  1.7  0.5\n",
        "24   4.8  3.4  1.9  0.2\n",
        "25   5.0  3.0  1.6  0.2\n",
        "26   5.0  3.4  1.6  0.4\n",
        "27   5.2  3.5  1.5  0.2\n",
        "28   5.2  3.4  1.4  0.2\n",
        "29   4.7  3.2  1.6  0.2\n",
        "..   ...  ...  ...  ...\n",
        "120  6.9  3.2  5.7  2.3\n",
        "121  5.6  2.8  4.9  2.0\n",
        "122  7.7  2.8  6.7  2.0\n",
        "123  6.3  2.7  4.9  1.8\n",
        "124  6.7  3.3  5.7  2.1\n",
        "125  7.2  3.2  6.0  1.8\n",
        "126  6.2  2.8  4.8  1.8\n",
        "127  6.1  3.0  4.9  1.8\n",
        "128  6.4  2.8  5.6  2.1\n",
        "129  7.2  3.0  5.8  1.6\n",
        "130  7.4  2.8  6.1  1.9\n",
        "131  7.9  3.8  6.4  2.0\n",
        "132  6.4  2.8  5.6  2.2\n",
        "133  6.3  2.8  5.1  1.5\n",
        "134  6.1  2.6  5.6  1.4\n",
        "135  7.7  3.0  6.1  2.3\n",
        "136  6.3  3.4  5.6  2.4\n",
        "137  6.4  3.1  5.5  1.8\n",
        "138  6.0  3.0  4.8  1.8\n",
        "139  6.9  3.1  5.4  2.1\n",
        "140  6.7  3.1  5.6  2.4\n",
        "141  6.9  3.1  5.1  2.3\n",
        "142  5.8  2.7  5.1  1.9\n",
        "143  6.8  3.2  5.9  2.3\n",
        "144  6.7  3.3  5.7  2.5\n",
        "145  6.7  3.0  5.2  2.3\n",
        "146  6.3  2.5  5.0  1.9\n",
        "147  6.5  3.0  5.2  2.0\n",
        "148  6.2  3.4  5.4  2.3\n",
        "149  5.9  3.0  5.1  1.8\n",
        "\n",
        "[150 rows x 4 columns]\n"
       ]
      }
     ],
     "prompt_number": 10
    }
   ],
   "metadata": {}
  }
 ]
}