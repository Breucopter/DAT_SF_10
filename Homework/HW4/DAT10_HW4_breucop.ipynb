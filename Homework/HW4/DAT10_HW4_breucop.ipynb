{
 "metadata": {
  "name": ""
 },
 "nbformat": 3,
 "nbformat_minor": 0,
 "worksheets": [
  {
   "cells": [
    {
     "cell_type": "heading",
     "level": 1,
     "metadata": {},
     "source": [
      "The Principles of Faces"
     ]
    },
    {
     "cell_type": "heading",
     "level": 2,
     "metadata": {},
     "source": [
      "Principal Component Analysis of the Olivetti Faces dataset"
     ]
    },
    {
     "cell_type": "code",
     "collapsed": false,
     "input": [
      "from sklearn import datasets\n",
      "import sklearn.decomposition as dc\n",
      "import numpy as np\n",
      "import pandas as pd\n",
      "import matplotlib.pyplot as plt\n",
      "\n",
      "%matplotlib inline\n",
      "\n",
      "faces = datasets.fetch_olivetti_faces()"
     ],
     "language": "python",
     "metadata": {},
     "outputs": [],
     "prompt_number": 4
    },
    {
     "cell_type": "code",
     "collapsed": false,
     "input": [
      "print faces['DESCR']\n"
     ],
     "language": "python",
     "metadata": {},
     "outputs": [
      {
       "output_type": "stream",
       "stream": "stdout",
       "text": [
        "Modified Olivetti faces dataset.\n",
        "\n",
        "The original database was available from (now defunct)\n",
        "\n",
        "    http://www.uk.research.att.com/facedatabase.html\n",
        "\n",
        "The version retrieved here comes in MATLAB format from the personal\n",
        "web page of Sam Roweis:\n",
        "\n",
        "    http://www.cs.nyu.edu/~roweis/\n",
        "\n",
        "There are ten different images of each of 40 distinct subjects. For some\n",
        "subjects, the images were taken at different times, varying the lighting,\n",
        "facial expressions (open / closed eyes, smiling / not smiling) and facial\n",
        "details (glasses / no glasses). All the images were taken against a dark\n",
        "homogeneous background with the subjects in an upright, frontal position (with\n",
        "tolerance for some side movement).\n",
        "\n",
        "The original dataset consisted of 92 x 112, while the Roweis version\n",
        "consists of 64x64 images.\n",
        "\n"
       ]
      }
     ],
     "prompt_number": 5
    },
    {
     "cell_type": "code",
     "collapsed": false,
     "input": [
      "data = faces['data']\n",
      "print len(data[0])\n",
      "print type(data)"
     ],
     "language": "python",
     "metadata": {},
     "outputs": [
      {
       "output_type": "stream",
       "stream": "stdout",
       "text": [
        "4096\n",
        "<type 'numpy.ndarray'>\n"
       ]
      }
     ],
     "prompt_number": 15
    },
    {
     "cell_type": "code",
     "collapsed": false,
     "input": [
      "pca_m = dc.PCA(n_components=50)\n",
      "pca_m.fit(data)\n",
      "scree = pca_m.explained_variance_ratio_\n",
      "print len(scree)\n"
     ],
     "language": "python",
     "metadata": {},
     "outputs": [
      {
       "output_type": "stream",
       "stream": "stdout",
       "text": [
        "50\n"
       ]
      }
     ],
     "prompt_number": 19
    },
    {
     "cell_type": "code",
     "collapsed": false,
     "input": [
      "pics_range = xrange(0,50)\n",
      "fig1 = plt.Figure(figsize=(10,10))\n",
      "plt.plot(pics_range, scree, 'ro-', linewidth=2)\n",
      "plt.title('Scree Plot')\n",
      "plt.xlabel('Principal Component')\n",
      "plt.ylabel('Eigenvalue')"
     ],
     "language": "python",
     "metadata": {},
     "outputs": [
      {
       "metadata": {},
       "output_type": "pyout",
       "prompt_number": 20,
       "text": [
        "<matplotlib.text.Text at 0x1155cda90>"
       ]
      },
      {
       "metadata": {},
       "output_type": "display_data",
       "png": "[encoded data removed]",
       "text": [
        "<matplotlib.figure.Figure at 0x115671d10>"
       ]
      }
     ],
     "prompt_number": 20
    },
    {
     "cell_type": "markdown",
     "metadata": {},
     "source": [
      "The principal components tell us that we can significantly reduce the number of dimensions. However, the number of dimensions we'd be left with is still a large number (~30)."
     ]
    },
    {
     "cell_type": "code",
     "collapsed": false,
     "input": [
      "pca_r = dc.RandomizedPCA(n_components=50)\n",
      "pca_r.fit(data)\n",
      "scree_r = pca_r.explained_variance_ratio_\n"
     ],
     "language": "python",
     "metadata": {},
     "outputs": [],
     "prompt_number": 21
    },
    {
     "cell_type": "code",
     "collapsed": false,
     "input": [
      "pics_range = xrange(0,50)\n",
      "fig2 = plt.Figure(figsize=(10,10))\n",
      "plt.plot(pics_range, scree_r, 'ro-', linewidth=2)\n",
      "plt.title('Scree Plot')\n",
      "plt.xlabel('Principal Component')\n",
      "plt.ylabel('Eigenvalue')"
     ],
     "language": "python",
     "metadata": {},
     "outputs": [
      {
       "metadata": {},
       "output_type": "pyout",
       "prompt_number": 23,
       "text": [
        "<matplotlib.text.Text at 0x113cd7950>"
       ]
      },
      {
       "metadata": {},
       "output_type": "display_data",
       "png": "[encoded data removed]",
       "text": [
        "<matplotlib.figure.Figure at 0x1139bc5d0>"
       ]
      }
     ],
     "prompt_number": 23
    },
    {
     "cell_type": "code",
     "collapsed": false,
     "input": [
      "diff_scree = scree - scree_r\n",
      "diff = 0\n",
      "for val in diff_scree:\n",
      "    diff += val\n",
      "print diff"
     ],
     "language": "python",
     "metadata": {},
     "outputs": [
      {
       "output_type": "stream",
       "stream": "stdout",
       "text": [
        "0.0005892341691\n"
       ]
      }
     ],
     "prompt_number": 25
    },
    {
     "cell_type": "markdown",
     "metadata": {},
     "source": [
      "I would say that the principal components are extremely similar and this is a good thing. Randomized PCA is faster since it performs PCA on a small, randomized subset of the data. The fact that they are so similar demonstrates the validity of Randomized PCA for being more efficient. "
     ]
    },
    {
     "cell_type": "code",
     "collapsed": false,
     "input": [
      "trans = pca_r.transform(data)\n",
      "plane = trans[:,[0,1]]\n",
      "\n",
      "fig2 = plt.Figure(figsize=(10,10))\n",
      "plt.plot(plane[:,0], plane[:,1], 'ro')\n",
      "plt.title('PCA Points')\n",
      "plt.xlabel('PC 1')\n",
      "plt.ylabel('PC 2')"
     ],
     "language": "python",
     "metadata": {},
     "outputs": [
      {
       "metadata": {},
       "output_type": "pyout",
       "prompt_number": 27,
       "text": [
        "<matplotlib.text.Text at 0x113c95fd0>"
       ]
      },
      {
       "metadata": {},
       "output_type": "display_data",
       "png": "[encoded data removed]",
       "text": [
        "<matplotlib.figure.Figure at 0x1121ae310>"
       ]
      }
     ],
     "prompt_number": 27
    },
    {
     "cell_type": "code",
     "collapsed": false,
     "input": [
      "from sklearn.cluster import KMeans\n",
      "\n",
      "model = KMeans(n_clusters=40)\n",
      "fit = model.fit(plane)\n",
      "print fit.labels_"
     ],
     "language": "python",
     "metadata": {},
     "outputs": [
      {
       "output_type": "stream",
       "stream": "stdout",
       "text": [
        "[30 18 30 10 19 37 30  7 26 27 27  5 23 22 23 22 39 23 22 15  3  3  3 13 13\n",
        "  4  2  2  1 27  4 23  4  1 19 29 21  4 39 18  4 23  3  4 29 29 33  2 38  7\n",
        " 19  1 30 34 12 34 12 34 12 34 30 27  7 38 26 26 30 30  7 21 19 18  9 11  9\n",
        "  9 11  9 37 18 36  3 25 33 33  2  2 33  4 15 15 23 35 35  1  5 19  1 29 30\n",
        " 19 19 19 18 18 19 18 18 18 18 21 36 13 39 36  7 36 27  1 21  4 39 38  2 33\n",
        "  5 16  2 27 33 23 22 22 27 15 22 15 15 22 23 27 33 27 27  4 27 15 15  4 15\n",
        "  4 21 21 30 30 15 19 38 21 21 33 33 23 22 33 10 10 21 16 10  9  1 21 27 21\n",
        " 26 30 21 30  7  4 15 27 19 19 15 19 19 19 27  3  3 25  4 21  4 38  2 38 25\n",
        "  6 32 32 13 36 36 24 24 36 24 28  8 28 14 14  8 28 28 28 28 30 19 23 33 23\n",
        " 33 15 19  7  7  4  4 17 17  3  2 33 33 17 17  5 22 27 23  4 22 27  2 22  5\n",
        " 39  4 39  3 35  4 30 22 15 22  5  5  5  5  5 22  5  5 22  5 15 23 33 27 23\n",
        " 15 23  5 39 33 14 20 31 32 24 13 13 17 31 14 39 25  3  6  6 36  6  6 36 39\n",
        " 13 25 25 25 25 32  6 13  6 25 19  5  5 19  5 19  5 19 19 19 31 14 14 20 32\n",
        " 32 32  6 32 14 20 20 20 14 28 20 28 20 20 20  6 25 13 25 16 15 23  4 16 16\n",
        " 26  2  2  2 26  2  2  2 21 38 13  0 13  0  0  0  6 20 13 32  2 39 23 27 39\n",
        " 33 23  5  2  4 20 28 31  8 20  8 20 20 20  8 39 38 21 33 21 39 37 39 37 33]\n"
       ]
      }
     ],
     "prompt_number": 210
    },
    {
     "cell_type": "code",
     "collapsed": false,
     "input": [
      "print fit.labels_\n",
      "print faces['target']"
     ],
     "language": "python",
     "metadata": {},
     "outputs": [
      {
       "output_type": "stream",
       "stream": "stdout",
       "text": [
        "[30 18 30 10 19 37 30  7 26 27 27  5 23 22 23 22 39 23 22 15  3  3  3 13 13\n",
        "  4  2  2  1 27  4 23  4  1 19 29 21  4 39 18  4 23  3  4 29 29 33  2 38  7\n",
        " 19  1 30 34 12 34 12 34 12 34 30 27  7 38 26 26 30 30  7 21 19 18  9 11  9\n",
        "  9 11  9 37 18 36  3 25 33 33  2  2 33  4 15 15 23 35 35  1  5 19  1 29 30\n",
        " 19 19 19 18 18 19 18 18 18 18 21 36 13 39 36  7 36 27  1 21  4 39 38  2 33\n",
        "  5 16  2 27 33 23 22 22 27 15 22 15 15 22 23 27 33 27 27  4 27 15 15  4 15\n",
        "  4 21 21 30 30 15 19 38 21 21 33 33 23 22 33 10 10 21 16 10  9  1 21 27 21\n",
        " 26 30 21 30  7  4 15 27 19 19 15 19 19 19 27  3  3 25  4 21  4 38  2 38 25\n",
        "  6 32 32 13 36 36 24 24 36 24 28  8 28 14 14  8 28 28 28 28 30 19 23 33 23\n",
        " 33 15 19  7  7  4  4 17 17  3  2 33 33 17 17  5 22 27 23  4 22 27  2 22  5\n",
        " 39  4 39  3 35  4 30 22 15 22  5  5  5  5  5 22  5  5 22  5 15 23 33 27 23\n",
        " 15 23  5 39 33 14 20 31 32 24 13 13 17 31 14 39 25  3  6  6 36  6  6 36 39\n",
        " 13 25 25 25 25 32  6 13  6 25 19  5  5 19  5 19  5 19 19 19 31 14 14 20 32\n",
        " 32 32  6 32 14 20 20 20 14 28 20 28 20 20 20  6 25 13 25 16 15 23  4 16 16\n",
        " 26  2  2  2 26  2  2  2 21 38 13  0 13  0  0  0  6 20 13 32  2 39 23 27 39\n",
        " 33 23  5  2  4 20 28 31  8 20  8 20 20 20  8 39 38 21 33 21 39 37 39 37 33]\n",
        "[ 0  0  0  0  0  0  0  0  0  0  1  1  1  1  1  1  1  1  1  1  2  2  2  2  2\n",
        "  2  2  2  2  2  3  3  3  3  3  3  3  3  3  3  4  4  4  4  4  4  4  4  4  4\n",
        "  5  5  5  5  5  5  5  5  5  5  6  6  6  6  6  6  6  6  6  6  7  7  7  7  7\n",
        "  7  7  7  7  7  8  8  8  8  8  8  8  8  8  8  9  9  9  9  9  9  9  9  9  9\n",
        " 10 10 10 10 10 10 10 10 10 10 11 11 11 11 11 11 11 11 11 11 12 12 12 12 12\n",
        " 12 12 12 12 12 13 13 13 13 13 13 13 13 13 13 14 14 14 14 14 14 14 14 14 14\n",
        " 15 15 15 15 15 15 15 15 15 15 16 16 16 16 16 16 16 16 16 16 17 17 17 17 17\n",
        " 17 17 17 17 17 18 18 18 18 18 18 18 18 18 18 19 19 19 19 19 19 19 19 19 19\n",
        " 20 20 20 20 20 20 20 20 20 20 21 21 21 21 21 21 21 21 21 21 22 22 22 22 22\n",
        " 22 22 22 22 22 23 23 23 23 23 23 23 23 23 23 24 24 24 24 24 24 24 24 24 24\n",
        " 25 25 25 25 25 25 25 25 25 25 26 26 26 26 26 26 26 26 26 26 27 27 27 27 27\n",
        " 27 27 27 27 27 28 28 28 28 28 28 28 28 28 28 29 29 29 29 29 29 29 29 29 29\n",
        " 30 30 30 30 30 30 30 30 30 30 31 31 31 31 31 31 31 31 31 31 32 32 32 32 32\n",
        " 32 32 32 32 32 33 33 33 33 33 33 33 33 33 33 34 34 34 34 34 34 34 34 34 34\n",
        " 35 35 35 35 35 35 35 35 35 35 36 36 36 36 36 36 36 36 36 36 37 37 37 37 37\n",
        " 37 37 37 37 37 38 38 38 38 38 38 38 38 38 38 39 39 39 39 39 39 39 39 39 39]\n"
       ]
      }
     ],
     "prompt_number": 212
    },
    {
     "cell_type": "markdown",
     "metadata": {},
     "source": [
      "They are very different. Even if the numbers don't match up (and that's tough to figure out), the clusters are pretty different. In order to show how different, we could try reassigning the kmeans to the target numbers using best guess. The below is a (terrible) attempt at doing so. It is incomplete because it turns out that we hit an empty set after 28 iterations, breaking the loop. Basically, the clusters are too incohesive for even simple voting."
     ]
    },
    {
     "cell_type": "code",
     "collapsed": false,
     "input": [
      "def cluster_res(origin,predicted,size):\n",
      "    from scipy.stats import mode\n",
      "    '''This function makes a best guess as to what the cluster number is and \n",
      "    resolves the cluster to the feature set. Origin is the original data; \n",
      "    predicted is the k-means data of the model, and size is the size of the\n",
      "    chunks for the original cluster'''\n",
      "    clusters, indices = np.unique(predicted, return_inverse=True)\n",
      "    new_cl = int(u[np.argmax(np.bincount(indices))])\n",
      "    o_chunks = [ origin[x:x+size] for x in xrange(0,len(origin),size) ]\n",
      "    p_chunks = [ predicted[x:x+size] for x in xrange(0,len(predicted),size) ]\n",
      "#     o_comm = [ mode(x,axis=1) for x in o_chunks ]\n",
      "# The big issue here is that there is a chance for a tie, so to resolve\n",
      "# this, we'll make the values first come first served. This is not the best\n",
      "# option but... we work with what we've got\n",
      "    p_comm = []\n",
      "    print len(p_chunks)\n",
      "    for arr in p_chunks:\n",
      "        check = [ x for x in arr if x not in p_comm ]\n",
      "        u, indices = np.unique(check, return_inverse=True)\n",
      "        new_cl = int(u[np.argmax(np.bincount(indices))])\n",
      "        p_comm.insert(-1,new_cl)\n",
      "        continue\n",
      "    print p_comm\n",
      "    corr_clust = []\n",
      "    master = {}\n",
      "#     print len(set(p_comm[0][0][0][:,0]))\n",
      "#     for a,b in (o_comm[0][0][0][:,0],p_comm[0][0][0][:,0]):\n",
      "        \n",
      "#         master[b]=a\n",
      "    \n",
      "#     for val in predicted:\n",
      "        \n",
      "#         corr_clust.append(master[val])\n",
      "#     print corr_clust\n",
      "        \n"
     ],
     "language": "python",
     "metadata": {},
     "outputs": [],
     "prompt_number": 185
    },
    {
     "cell_type": "code",
     "collapsed": false,
     "input": [
      "cluster_res(faces['target'],fit.labels_,10)\n"
     ],
     "language": "python",
     "metadata": {},
     "outputs": [
      {
       "ename": "ValueError",
       "evalue": "attempt to get argmax of an empty sequence",
       "output_type": "pyerr",
       "traceback": [
        "\u001b[0;31m---------------------------------------------------------------------------\u001b[0m\n\u001b[0;31mValueError\u001b[0m                                Traceback (most recent call last)",
        "\u001b[0;32m<ipython-input-213-64c0433eb8c0>\u001b[0m in \u001b[0;36m<module>\u001b[0;34m()\u001b[0m\n\u001b[0;32m----> 1\u001b[0;31m \u001b[0mcluster_res\u001b[0m\u001b[0;34m(\u001b[0m\u001b[0mfaces\u001b[0m\u001b[0;34m[\u001b[0m\u001b[0;34m'target'\u001b[0m\u001b[0;34m]\u001b[0m\u001b[0;34m,\u001b[0m\u001b[0mfit\u001b[0m\u001b[0;34m.\u001b[0m\u001b[0mlabels_\u001b[0m\u001b[0;34m,\u001b[0m\u001b[0;36m10\u001b[0m\u001b[0;34m)\u001b[0m\u001b[0;34m\u001b[0m\u001b[0m\n\u001b[0m",
        "\u001b[0;32m<ipython-input-185-aefc0f0ea202>\u001b[0m in \u001b[0;36mcluster_res\u001b[0;34m(origin, predicted, size)\u001b[0m\n\u001b[1;32m     16\u001b[0m         \u001b[0mcheck\u001b[0m \u001b[0;34m=\u001b[0m \u001b[0;34m[\u001b[0m \u001b[0mx\u001b[0m \u001b[0;32mfor\u001b[0m \u001b[0mx\u001b[0m \u001b[0;32min\u001b[0m \u001b[0marr\u001b[0m \u001b[0;32mif\u001b[0m \u001b[0mx\u001b[0m \u001b[0;32mnot\u001b[0m \u001b[0;32min\u001b[0m \u001b[0mp_comm\u001b[0m \u001b[0;34m]\u001b[0m\u001b[0;34m\u001b[0m\u001b[0m\n\u001b[1;32m     17\u001b[0m         \u001b[0mu\u001b[0m\u001b[0;34m,\u001b[0m \u001b[0mindices\u001b[0m \u001b[0;34m=\u001b[0m \u001b[0mnp\u001b[0m\u001b[0;34m.\u001b[0m\u001b[0munique\u001b[0m\u001b[0;34m(\u001b[0m\u001b[0mcheck\u001b[0m\u001b[0;34m,\u001b[0m \u001b[0mreturn_inverse\u001b[0m\u001b[0;34m=\u001b[0m\u001b[0mTrue\u001b[0m\u001b[0;34m)\u001b[0m\u001b[0;34m\u001b[0m\u001b[0m\n\u001b[0;32m---> 18\u001b[0;31m         \u001b[0mnew_cl\u001b[0m \u001b[0;34m=\u001b[0m \u001b[0mint\u001b[0m\u001b[0;34m(\u001b[0m\u001b[0mu\u001b[0m\u001b[0;34m[\u001b[0m\u001b[0mnp\u001b[0m\u001b[0;34m.\u001b[0m\u001b[0margmax\u001b[0m\u001b[0;34m(\u001b[0m\u001b[0mnp\u001b[0m\u001b[0;34m.\u001b[0m\u001b[0mbincount\u001b[0m\u001b[0;34m(\u001b[0m\u001b[0mindices\u001b[0m\u001b[0;34m)\u001b[0m\u001b[0;34m)\u001b[0m\u001b[0;34m]\u001b[0m\u001b[0;34m)\u001b[0m\u001b[0;34m\u001b[0m\u001b[0m\n\u001b[0m\u001b[1;32m     19\u001b[0m         \u001b[0;32mprint\u001b[0m \u001b[0mnew_cl\u001b[0m\u001b[0;34m\u001b[0m\u001b[0m\n\u001b[1;32m     20\u001b[0m         \u001b[0mp_comm\u001b[0m\u001b[0;34m.\u001b[0m\u001b[0minsert\u001b[0m\u001b[0;34m(\u001b[0m\u001b[0;34m-\u001b[0m\u001b[0;36m1\u001b[0m\u001b[0;34m,\u001b[0m\u001b[0mnew_cl\u001b[0m\u001b[0;34m)\u001b[0m\u001b[0;34m\u001b[0m\u001b[0m\n",
        "\u001b[0;32m/Library/Python/2.7/site-packages/numpy/core/fromnumeric.pyc\u001b[0m in \u001b[0;36margmax\u001b[0;34m(a, axis)\u001b[0m\n\u001b[1;32m    933\u001b[0m     \u001b[0;32mexcept\u001b[0m \u001b[0mAttributeError\u001b[0m\u001b[0;34m:\u001b[0m\u001b[0;34m\u001b[0m\u001b[0m\n\u001b[1;32m    934\u001b[0m         \u001b[0;32mreturn\u001b[0m \u001b[0m_wrapit\u001b[0m\u001b[0;34m(\u001b[0m\u001b[0ma\u001b[0m\u001b[0;34m,\u001b[0m \u001b[0;34m'argmax'\u001b[0m\u001b[0;34m,\u001b[0m \u001b[0maxis\u001b[0m\u001b[0;34m)\u001b[0m\u001b[0;34m\u001b[0m\u001b[0m\n\u001b[0;32m--> 935\u001b[0;31m     \u001b[0;32mreturn\u001b[0m \u001b[0margmax\u001b[0m\u001b[0;34m(\u001b[0m\u001b[0maxis\u001b[0m\u001b[0;34m)\u001b[0m\u001b[0;34m\u001b[0m\u001b[0m\n\u001b[0m\u001b[1;32m    936\u001b[0m \u001b[0;34m\u001b[0m\u001b[0m\n\u001b[1;32m    937\u001b[0m \u001b[0;34m\u001b[0m\u001b[0m\n",
        "\u001b[0;31mValueError\u001b[0m: attempt to get argmax of an empty sequence"
       ]
      },
      {
       "output_type": "stream",
       "stream": "stdout",
       "text": [
        "40\n",
        "30\n",
        "22\n",
        "3\n",
        "4\n",
        "29\n",
        "34\n",
        "7\n",
        "9\n",
        "33\n",
        "1\n",
        "18\n",
        "36\n",
        "2\n",
        "15\n",
        "27\n",
        "21\n",
        "10\n",
        "26\n",
        "19\n",
        "25\n",
        "24\n",
        "28\n",
        "23\n",
        "17\n",
        "5\n",
        "39\n"
       ]
      }
     ],
     "prompt_number": 213
    },
    {
     "cell_type": "markdown",
     "metadata": {},
     "source": [
      "Avoiding that little detour: we can see that the clusters aren't very solid. If we look at the size of the clusters, which should all be close to 10, we actually get a wide range from 1 to greater than 20."
     ]
    },
    {
     "cell_type": "code",
     "collapsed": false,
     "input": [
      "    clusters, indices = np.unique(fit.predict(plane), return_inverse=True)\n",
      "    new_cl = np.sort(np.bincount(indices))\n",
      "    print new_cl"
     ],
     "language": "python",
     "metadata": {},
     "outputs": [
      {
       "output_type": "stream",
       "stream": "stdout",
       "text": [
        "[ 1  2  2  2  3  4  4  4  4  4  5  5  7  7  8  8  8  9  9  9  9  9 10 10 11\n",
        " 12 13 13 13 13 15 16 16 16 18 18 19 20 21 23]\n",
        "400\n"
       ]
      }
     ],
     "prompt_number": 209
    },
    {
     "cell_type": "code",
     "collapsed": false,
     "input": [
      "from sklearn import metrics\n",
      "\n",
      "all_coeff = []\n",
      "# for x in xrange(2,len(data)):\n",
      "#     model = KMeans(n_clusters=x)\n",
      "#     model.fit(plane)\n",
      "#     labels =  model.labels_\n",
      "#     all_coeff.append( metrics.silhouette_score(plane,labels,metric='euclidean') )\n",
      "all_coeff = [ metrics.silhouette_score(plane,KMeans(n_clusters = x).fit(plane).labels_,metric='euclidean') for x in xrange(2,120) ]\n",
      "\n",
      "print all_coeff\n",
      "\n",
      " "
     ],
     "language": "python",
     "metadata": {},
     "outputs": [
      {
       "output_type": "stream",
       "stream": "stdout",
       "text": [
        "[0.39275319737647435, 0.39798886126664412, 0.38264526822285488, 0.36148111830438706, 0.35483250801419303, 0.3791423784364189, 0.37658047619286383, 0.37596998925795716, 0.36965018198874561, 0.38653928241551827, 0.37508287042079269, 0.3826190344735616, 0.38772003285669909, 0.37476577705807318, 0.36353907672992009, 0.36898009100616685, 0.38542253498813933, 0.36326517778092565, 0.37167144590797818, 0.3734739643004793, 0.38456060131879694, 0.37148365821217394, 0.37858034113425049, 0.36337625154966702, 0.38662691889773299, 0.37518269515708186, 0.3877805857836506, 0.39296933872388962, 0.39210090848038631, 0.39804807734724873, 0.38096659128672833, 0.39427600742668045, 0.39368609315560449, 0.39659710879934179, 0.39553876585399123, 0.38161558140989343, 0.3800897964604576, 0.39628244564432008, 0.38159085494647876, 0.37964882762253793, 0.37663196705101937, 0.39047674696531504, 0.37697347927523239, 0.39088992290484398, 0.3802202070012462, 0.38366915584847616, 0.37048008380254771, 0.37503440715177028, 0.37428699331878973, 0.37234258535279324, 0.38623714030417178, 0.38845871933206511, 0.38293647846140572, 0.39056366139767618, 0.38799531754588429, 0.37909324252994286, 0.37361638987969842, 0.37633061315705646, 0.38844133949691168, 0.37639870083364924, 0.38253048015944613, 0.37830820215639194, 0.38429585631707996, 0.37897841454899789, 0.38743041871102207, 0.38559736433160696, 0.38170491982610699, 0.38019710491755115, 0.38032211106104613, 0.39467698721276745, 0.38060289476906811, 0.38768374969436065, 0.3840366451660806, 0.39025893457076194, 0.3796942675331878, 0.38838573147727551, 0.38524630302451768, 0.39472327434280713, 0.37625315720544578, 0.382517185770827, 0.38501168890311249, 0.39996173792882206, 0.38130886212729237, 0.38870944503483185, 0.38851167679221149, 0.3820546723281984, 0.38253164031893888, 0.39026542066563108, 0.39077797997985075, 0.38464331600710916, 0.37739494825477349, 0.38469587974486175, 0.37670054475657833, 0.38612893689953171, 0.39203047145842618, 0.37665326863208465, 0.38099321717909973, 0.38900603314401766, 0.37658128143371711, 0.38093400801039728, 0.38591196274252582, 0.38142471424524338, 0.38635477570167509, 0.39544452601508612, 0.3855056504275779, 0.37884316314685323, 0.38038223292598888, 0.38282746558985437, 0.3794072502853526, 0.3680411135077632, 0.38692780714957509, 0.37466697621217948, 0.37034924253964246, 0.38953465103927015, 0.38394787209465359, 0.37798640171143638, 0.37705650031527749, 0.37745486489071489]\n"
       ]
      }
     ],
     "prompt_number": 227
    },
    {
     "cell_type": "code",
     "collapsed": false,
     "input": [
      "pics_range = xrange(0,50)\n",
      "fig3 = plt.Figure(figsize=(10,10))\n",
      "plt.plot(xrange(2,120), all_coeff, 'ro', linewidth=2)\n",
      "plt.title('Silhouette Plot')\n",
      "plt.xlabel('Number of Clusters')\n",
      "plt.ylabel('Silhouette Coefficient')"
     ],
     "language": "python",
     "metadata": {},
     "outputs": [
      {
       "metadata": {},
       "output_type": "pyout",
       "prompt_number": 228,
       "text": [
        "<matplotlib.text.Text at 0x1134967d0>"
       ]
      },
      {
       "metadata": {},
       "output_type": "display_data",
       "png": "[encoded data removed]",
       "text": [
        "<matplotlib.figure.Figure at 0x113570710>"
       ]
      }
     ],
     "prompt_number": 228
    },
    {
     "cell_type": "markdown",
     "metadata": {},
     "source": [
      "The Silhouette Coefficient seems to stay pretty steady between 0.35 and 0.4. As to which the optimum number of k means is, that's unclear. Since no clear clusters emerged, it makes sense that the certainty for the clusters is low."
     ]
    }
   ],
   "metadata": {}
  }
 ]
}